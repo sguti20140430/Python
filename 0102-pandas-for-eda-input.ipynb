{
 "cells": [
  {
   "cell_type": "markdown",
   "metadata": {},
   "source": [
    "# 출처 : 러닝스푼즈\n",
    "\n",
    "###  비고 : 개인적으로 학습한 내용 따로 기재\n",
    "\n",
    "<img src=\"https://pandas.pydata.org/docs/_static/pandas.svg\" width=\"300\">\n",
    "\n",
    "## Pandas\n",
    "* https://pandas.pydata.org/\n",
    "* https://pandas.pydata.org/Pandas_Cheat_Sheet.pdf\n",
    "* [10 minutes to pandas — pandasdocumentation](https://pandas.pydata.org/docs/user_guide/10min.html)\n",
    "* [Pandas 10분 완성](https://dataitgirls2.github.io/10minutes2pandas/)"
   ]
  },
  {
   "cell_type": "markdown",
   "metadata": {},
   "source": [
    "# 파이썬의 데이터 과학 도구들은 대부분 `numpy`를 기반으로 만들어짐\n",
    "# 파이썬은 느리다가는 인식이 있음. But, 인터페이스는 괜찮은편임.\n",
    "# numpy = c언어 기반이기 때문에 빠르다. \n",
    "\n",
    "# 파이썬 = `접착제 언어`라는 별명이 있음 \n",
    "# 껍데기 =  파이썬, 실제 = c언어 \n",
    " \n",
    "# 딥러닝, 머신러닝 내부에도  numpy가 포함되어 있다. (포함안된곳이 없다.)"
   ]
  },
  {
   "cell_type": "code",
   "execution_count": 1,
   "metadata": {},
   "outputs": [],
   "source": [
    "## 파이썬 내의 대부분 데이터 과학 도구들(텐서플로우, 싸이키런, 파이토치, 매트랩)은 numpy 기반으로 되어 있다.\n",
    "## 파이썬의 생태계를 넓히는데 numpy의 역할이 크다.\n",
    "## numpy = `공학용 계산기`\n",
    "\n",
    "# 필요한 라이브러리를 로드합니다.\n",
    "# pandas, numpy를 불러옵니다.\n",
    "\n",
    "import pandas as pd\n",
    "import numpy as np"
   ]
  },
  {
   "cell_type": "markdown",
   "metadata": {},
   "source": [
    "## DataFrame\n",
    "\n",
    "<img src=\"https://pandas.pydata.org/docs/_images/01_table_dataframe.svg\">"
   ]
  },
  {
   "cell_type": "code",
   "execution_count": 2,
   "metadata": {},
   "outputs": [
    {
     "data": {
      "text/plain": [
       "pandas.core.frame.DataFrame"
      ]
     },
     "execution_count": 2,
     "metadata": {},
     "output_type": "execute_result"
    }
   ],
   "source": [
    "# 비어있는 데이터프레임을 생성합니다.\n",
    "\n",
    "df = pd.DataFrame()\n",
    "df\n",
    "type(df)"
   ]
  },
  {
   "cell_type": "markdown",
   "metadata": {},
   "source": [
    "## 컬럼 추가하기"
   ]
  },
  {
   "cell_type": "code",
   "execution_count": 3,
   "metadata": {},
   "outputs": [
    {
     "data": {
      "text/html": [
       "<div>\n",
       "<style scoped>\n",
       "    .dataframe tbody tr th:only-of-type {\n",
       "        vertical-align: middle;\n",
       "    }\n",
       "\n",
       "    .dataframe tbody tr th {\n",
       "        vertical-align: top;\n",
       "    }\n",
       "\n",
       "    .dataframe thead th {\n",
       "        text-align: right;\n",
       "    }\n",
       "</style>\n",
       "<table border=\"1\" class=\"dataframe\">\n",
       "  <thead>\n",
       "    <tr style=\"text-align: right;\">\n",
       "      <th></th>\n",
       "      <th>약품명</th>\n",
       "    </tr>\n",
       "  </thead>\n",
       "  <tbody>\n",
       "    <tr>\n",
       "      <th>0</th>\n",
       "      <td>소화제</td>\n",
       "    </tr>\n",
       "    <tr>\n",
       "      <th>1</th>\n",
       "      <td>감기약</td>\n",
       "    </tr>\n",
       "    <tr>\n",
       "      <th>2</th>\n",
       "      <td>비타민</td>\n",
       "    </tr>\n",
       "    <tr>\n",
       "      <th>3</th>\n",
       "      <td>digestive</td>\n",
       "    </tr>\n",
       "    <tr>\n",
       "      <th>4</th>\n",
       "      <td>Omega3</td>\n",
       "    </tr>\n",
       "    <tr>\n",
       "      <th>5</th>\n",
       "      <td>오메가3</td>\n",
       "    </tr>\n",
       "    <tr>\n",
       "      <th>6</th>\n",
       "      <td>vitamin</td>\n",
       "    </tr>\n",
       "    <tr>\n",
       "      <th>7</th>\n",
       "      <td>Vitamin</td>\n",
       "    </tr>\n",
       "  </tbody>\n",
       "</table>\n",
       "</div>"
      ],
      "text/plain": [
       "         약품명\n",
       "0        소화제\n",
       "1        감기약\n",
       "2        비타민\n",
       "3  digestive\n",
       "4     Omega3\n",
       "5       오메가3\n",
       "6    vitamin\n",
       "7    Vitamin"
      ]
     },
     "execution_count": 3,
     "metadata": {},
     "output_type": "execute_result"
    }
   ],
   "source": [
    "# 약품명 시리즈 타입으로 약품명을 만듭니다.\n",
    "# 다음의 리스트를 만들고 약품명이라는 컬럼에 담습니다.\n",
    "\n",
    "df['약품명'] = [\"소화제\", \"감기약\", \"비타민\", \"digestive\", \"Omega3\", \"오메가3\", \"vitamin\", \"Vitamin\"]\n",
    "\n",
    "df"
   ]
  },
  {
   "cell_type": "code",
   "execution_count": 6,
   "metadata": {},
   "outputs": [
    {
     "data": {
      "text/html": [
       "<div>\n",
       "<style scoped>\n",
       "    .dataframe tbody tr th:only-of-type {\n",
       "        vertical-align: middle;\n",
       "    }\n",
       "\n",
       "    .dataframe tbody tr th {\n",
       "        vertical-align: top;\n",
       "    }\n",
       "\n",
       "    .dataframe thead th {\n",
       "        text-align: right;\n",
       "    }\n",
       "</style>\n",
       "<table border=\"1\" class=\"dataframe\">\n",
       "  <thead>\n",
       "    <tr style=\"text-align: right;\">\n",
       "      <th></th>\n",
       "      <th>약품명</th>\n",
       "      <th>가격</th>\n",
       "    </tr>\n",
       "  </thead>\n",
       "  <tbody>\n",
       "    <tr>\n",
       "      <th>0</th>\n",
       "      <td>소화제</td>\n",
       "      <td>3500</td>\n",
       "    </tr>\n",
       "    <tr>\n",
       "      <th>1</th>\n",
       "      <td>감기약</td>\n",
       "      <td>3500</td>\n",
       "    </tr>\n",
       "    <tr>\n",
       "      <th>2</th>\n",
       "      <td>비타민</td>\n",
       "      <td>3500</td>\n",
       "    </tr>\n",
       "    <tr>\n",
       "      <th>3</th>\n",
       "      <td>digestive</td>\n",
       "      <td>3500</td>\n",
       "    </tr>\n",
       "    <tr>\n",
       "      <th>4</th>\n",
       "      <td>Omega3</td>\n",
       "      <td>3500</td>\n",
       "    </tr>\n",
       "    <tr>\n",
       "      <th>5</th>\n",
       "      <td>오메가3</td>\n",
       "      <td>3500</td>\n",
       "    </tr>\n",
       "    <tr>\n",
       "      <th>6</th>\n",
       "      <td>vitamin</td>\n",
       "      <td>3500</td>\n",
       "    </tr>\n",
       "    <tr>\n",
       "      <th>7</th>\n",
       "      <td>Vitamin</td>\n",
       "      <td>3500</td>\n",
       "    </tr>\n",
       "  </tbody>\n",
       "</table>\n",
       "</div>"
      ],
      "text/plain": [
       "         약품명    가격\n",
       "0        소화제  3500\n",
       "1        감기약  3500\n",
       "2        비타민  3500\n",
       "3  digestive  3500\n",
       "4     Omega3  3500\n",
       "5       오메가3  3500\n",
       "6    vitamin  3500\n",
       "7    Vitamin  3500"
      ]
     },
     "execution_count": 6,
     "metadata": {},
     "output_type": "execute_result"
    }
   ],
   "source": [
    "# 가격 컬럼을 만듭니다. \n",
    "# df[\"가격\"] 이라는 컬럼에 3500 이라는 값을 넣습니다.\n",
    "# 그리고 컬럼이 제대로 추가 되었는지 데이터 프레임 전체를 출력해 봅니다.\n",
    "# 데이터프레임, 행렬, 2차원\n",
    "\n",
    "df['가격'] = 3500\n",
    "\n",
    "df"
   ]
  },
  {
   "cell_type": "code",
   "execution_count": 9,
   "metadata": {},
   "outputs": [
    {
     "data": {
      "text/plain": [
       "0    3500\n",
       "1    3500\n",
       "2    3500\n",
       "3    3500\n",
       "4    3500\n",
       "5    3500\n",
       "6    3500\n",
       "7    3500\n",
       "Name: 가격, dtype: int64"
      ]
     },
     "execution_count": 9,
     "metadata": {},
     "output_type": "execute_result"
    }
   ],
   "source": [
    "# 가격 컬럼만 가져와서 봅니다.\n",
    "# 컬럼 하나만 가져오면 데이터프레임 전체를 출력했을 때와 다른 모습을 보입니다.\n",
    "# 이렇게 데이터를 가져오면 Series 라는 데이터 형태로 출력이 됩니다.\n",
    "# Seies, 벡터, 1차원\n",
    "\n",
    "df['가격']"
   ]
  },
  {
   "cell_type": "code",
   "execution_count": 10,
   "metadata": {},
   "outputs": [
    {
     "data": {
      "text/plain": [
       "pandas.core.series.Series"
      ]
     },
     "execution_count": 10,
     "metadata": {},
     "output_type": "execute_result"
    }
   ],
   "source": [
    "# type 을 사용해서 데이터의 타입을 출력할 수 있습니다.\n",
    "\n",
    "type(df['가격'])"
   ]
  },
  {
   "cell_type": "code",
   "execution_count": 11,
   "metadata": {},
   "outputs": [
    {
     "data": {
      "text/plain": [
       "pandas.core.frame.DataFrame"
      ]
     },
     "execution_count": 11,
     "metadata": {},
     "output_type": "execute_result"
    }
   ],
   "source": [
    "# type 을 사용해서 데이터의 타입을 출력할 수 있습니다.\n",
    "\n",
    "type(df)"
   ]
  },
  {
   "cell_type": "code",
   "execution_count": 12,
   "metadata": {},
   "outputs": [
    {
     "data": {
      "text/plain": [
       "pandas.core.frame.DataFrame"
      ]
     },
     "execution_count": 12,
     "metadata": {},
     "output_type": "execute_result"
    }
   ],
   "source": [
    "# 가져온 \"가격\" 컬럼을 리스트 형태로 변경합니다.\n",
    "\n",
    "type(df[['가격']])"
   ]
  },
  {
   "cell_type": "code",
   "execution_count": 13,
   "metadata": {
    "scrolled": true
   },
   "outputs": [
    {
     "data": {
      "text/plain": [
       "[3500, 3500, 3500, 3500, 3500, 3500, 3500, 3500]"
      ]
     },
     "execution_count": 13,
     "metadata": {},
     "output_type": "execute_result"
    }
   ],
   "source": [
    "# 시리즈 형태 -> 리스트 형태로 수정\n",
    "df['가격'].tolist()"
   ]
  },
  {
   "cell_type": "code",
   "execution_count": null,
   "metadata": {},
   "outputs": [],
   "source": []
  },
  {
   "cell_type": "markdown",
   "metadata": {},
   "source": [
    "## 컬럼값 변경하기"
   ]
  },
  {
   "cell_type": "code",
   "execution_count": 14,
   "metadata": {},
   "outputs": [
    {
     "data": {
      "text/html": [
       "<div>\n",
       "<style scoped>\n",
       "    .dataframe tbody tr th:only-of-type {\n",
       "        vertical-align: middle;\n",
       "    }\n",
       "\n",
       "    .dataframe tbody tr th {\n",
       "        vertical-align: top;\n",
       "    }\n",
       "\n",
       "    .dataframe thead th {\n",
       "        text-align: right;\n",
       "    }\n",
       "</style>\n",
       "<table border=\"1\" class=\"dataframe\">\n",
       "  <thead>\n",
       "    <tr style=\"text-align: right;\">\n",
       "      <th></th>\n",
       "      <th>약품명</th>\n",
       "      <th>가격</th>\n",
       "    </tr>\n",
       "  </thead>\n",
       "  <tbody>\n",
       "    <tr>\n",
       "      <th>0</th>\n",
       "      <td>소화제</td>\n",
       "      <td>3500.0</td>\n",
       "    </tr>\n",
       "    <tr>\n",
       "      <th>1</th>\n",
       "      <td>감기약</td>\n",
       "      <td>3200.0</td>\n",
       "    </tr>\n",
       "    <tr>\n",
       "      <th>2</th>\n",
       "      <td>비타민</td>\n",
       "      <td>4000.0</td>\n",
       "    </tr>\n",
       "    <tr>\n",
       "      <th>3</th>\n",
       "      <td>digestive</td>\n",
       "      <td>3200.0</td>\n",
       "    </tr>\n",
       "    <tr>\n",
       "      <th>4</th>\n",
       "      <td>Omega3</td>\n",
       "      <td>3700.0</td>\n",
       "    </tr>\n",
       "    <tr>\n",
       "      <th>5</th>\n",
       "      <td>오메가3</td>\n",
       "      <td>NaN</td>\n",
       "    </tr>\n",
       "    <tr>\n",
       "      <th>6</th>\n",
       "      <td>vitamin</td>\n",
       "      <td>2000.0</td>\n",
       "    </tr>\n",
       "    <tr>\n",
       "      <th>7</th>\n",
       "      <td>Vitamin</td>\n",
       "      <td>1000.0</td>\n",
       "    </tr>\n",
       "  </tbody>\n",
       "</table>\n",
       "</div>"
      ],
      "text/plain": [
       "         약품명      가격\n",
       "0        소화제  3500.0\n",
       "1        감기약  3200.0\n",
       "2        비타민  4000.0\n",
       "3  digestive  3200.0\n",
       "4     Omega3  3700.0\n",
       "5       오메가3     NaN\n",
       "6    vitamin  2000.0\n",
       "7    Vitamin  1000.0"
      ]
     },
     "execution_count": 14,
     "metadata": {},
     "output_type": "execute_result"
    }
   ],
   "source": [
    "# 가격을 다음의 리스트 값으로 변경합니다.\n",
    "df['가격'] = [3500, 3200, 4000, 3200, 3700, np.nan, 2000, 1000]\n",
    "df"
   ]
  },
  {
   "cell_type": "code",
   "execution_count": 15,
   "metadata": {},
   "outputs": [
    {
     "data": {
      "text/plain": [
       "float"
      ]
     },
     "execution_count": 15,
     "metadata": {},
     "output_type": "execute_result"
    }
   ],
   "source": [
    "# nan == not a number 의 약자로 결측치를 의미합니다.\n",
    "# nan의 데이터 타입은 float 입니다.\n",
    "type(np.nan)"
   ]
  },
  {
   "cell_type": "code",
   "execution_count": 16,
   "metadata": {},
   "outputs": [
    {
     "data": {
      "text/plain": [
       "약품명     object\n",
       "가격     float64\n",
       "dtype: object"
      ]
     },
     "execution_count": 16,
     "metadata": {},
     "output_type": "execute_result"
    }
   ],
   "source": [
    "df.dtypes"
   ]
  },
  {
   "cell_type": "code",
   "execution_count": 19,
   "metadata": {},
   "outputs": [
    {
     "data": {
      "text/html": [
       "<div>\n",
       "<style scoped>\n",
       "    .dataframe tbody tr th:only-of-type {\n",
       "        vertical-align: middle;\n",
       "    }\n",
       "\n",
       "    .dataframe tbody tr th {\n",
       "        vertical-align: top;\n",
       "    }\n",
       "\n",
       "    .dataframe thead th {\n",
       "        text-align: right;\n",
       "    }\n",
       "</style>\n",
       "<table border=\"1\" class=\"dataframe\">\n",
       "  <thead>\n",
       "    <tr style=\"text-align: right;\">\n",
       "      <th></th>\n",
       "      <th>약품명</th>\n",
       "      <th>가격</th>\n",
       "      <th>지역</th>\n",
       "    </tr>\n",
       "  </thead>\n",
       "  <tbody>\n",
       "    <tr>\n",
       "      <th>0</th>\n",
       "      <td>소화제</td>\n",
       "      <td>3500.0</td>\n",
       "      <td>서울</td>\n",
       "    </tr>\n",
       "    <tr>\n",
       "      <th>1</th>\n",
       "      <td>감기약</td>\n",
       "      <td>3200.0</td>\n",
       "      <td>서울</td>\n",
       "    </tr>\n",
       "    <tr>\n",
       "      <th>2</th>\n",
       "      <td>비타민</td>\n",
       "      <td>4000.0</td>\n",
       "      <td>서울</td>\n",
       "    </tr>\n",
       "    <tr>\n",
       "      <th>3</th>\n",
       "      <td>digestive</td>\n",
       "      <td>3200.0</td>\n",
       "      <td>서울</td>\n",
       "    </tr>\n",
       "    <tr>\n",
       "      <th>4</th>\n",
       "      <td>Omega3</td>\n",
       "      <td>3700.0</td>\n",
       "      <td>서울</td>\n",
       "    </tr>\n",
       "    <tr>\n",
       "      <th>5</th>\n",
       "      <td>오메가3</td>\n",
       "      <td>NaN</td>\n",
       "      <td>서울</td>\n",
       "    </tr>\n",
       "    <tr>\n",
       "      <th>6</th>\n",
       "      <td>vitamin</td>\n",
       "      <td>2000.0</td>\n",
       "      <td>서울</td>\n",
       "    </tr>\n",
       "    <tr>\n",
       "      <th>7</th>\n",
       "      <td>Vitamin</td>\n",
       "      <td>1000.0</td>\n",
       "      <td>서울</td>\n",
       "    </tr>\n",
       "  </tbody>\n",
       "</table>\n",
       "</div>"
      ],
      "text/plain": [
       "         약품명      가격  지역\n",
       "0        소화제  3500.0  서울\n",
       "1        감기약  3200.0  서울\n",
       "2        비타민  4000.0  서울\n",
       "3  digestive  3200.0  서울\n",
       "4     Omega3  3700.0  서울\n",
       "5       오메가3     NaN  서울\n",
       "6    vitamin  2000.0  서울\n",
       "7    Vitamin  1000.0  서울"
      ]
     },
     "execution_count": 19,
     "metadata": {},
     "output_type": "execute_result"
    }
   ],
   "source": [
    "# \"지역\" 컬럼을 하나 더 추가해 봅니다.\n",
    "df['지역'] = '서울'\n",
    "df "
   ]
  },
  {
   "cell_type": "code",
   "execution_count": 24,
   "metadata": {},
   "outputs": [
    {
     "data": {
      "text/html": [
       "<div>\n",
       "<style scoped>\n",
       "    .dataframe tbody tr th:only-of-type {\n",
       "        vertical-align: middle;\n",
       "    }\n",
       "\n",
       "    .dataframe tbody tr th {\n",
       "        vertical-align: top;\n",
       "    }\n",
       "\n",
       "    .dataframe thead th {\n",
       "        text-align: right;\n",
       "    }\n",
       "</style>\n",
       "<table border=\"1\" class=\"dataframe\">\n",
       "  <thead>\n",
       "    <tr style=\"text-align: right;\">\n",
       "      <th></th>\n",
       "      <th>약품명</th>\n",
       "      <th>가격</th>\n",
       "      <th>지역</th>\n",
       "      <th>종류2</th>\n",
       "      <th>종류</th>\n",
       "      <th>종류3</th>\n",
       "      <th>종류4</th>\n",
       "    </tr>\n",
       "  </thead>\n",
       "  <tbody>\n",
       "    <tr>\n",
       "      <th>0</th>\n",
       "      <td>소화제</td>\n",
       "      <td>3500.0</td>\n",
       "      <td>서울</td>\n",
       "      <td>일반의약품</td>\n",
       "      <td>일반의약품</td>\n",
       "      <td>일반의약품</td>\n",
       "      <td>일반의약품</td>\n",
       "    </tr>\n",
       "    <tr>\n",
       "      <th>1</th>\n",
       "      <td>감기약</td>\n",
       "      <td>3200.0</td>\n",
       "      <td>서울</td>\n",
       "      <td>일반의약품</td>\n",
       "      <td>일반의약품</td>\n",
       "      <td>일반의약품</td>\n",
       "      <td>일반의약품</td>\n",
       "    </tr>\n",
       "    <tr>\n",
       "      <th>2</th>\n",
       "      <td>비타민</td>\n",
       "      <td>4000.0</td>\n",
       "      <td>서울</td>\n",
       "      <td>일반의약품</td>\n",
       "      <td>일반의약품</td>\n",
       "      <td>일반의약품</td>\n",
       "      <td>일반의약품</td>\n",
       "    </tr>\n",
       "    <tr>\n",
       "      <th>3</th>\n",
       "      <td>digestive</td>\n",
       "      <td>3200.0</td>\n",
       "      <td>서울</td>\n",
       "      <td>일반의약품</td>\n",
       "      <td>일반의약품</td>\n",
       "      <td>일반의약품</td>\n",
       "      <td>일반의약품</td>\n",
       "    </tr>\n",
       "    <tr>\n",
       "      <th>4</th>\n",
       "      <td>Omega3</td>\n",
       "      <td>3700.0</td>\n",
       "      <td>서울</td>\n",
       "      <td>일반의약품</td>\n",
       "      <td>일반의약품</td>\n",
       "      <td>일반의약품</td>\n",
       "      <td>일반의약품</td>\n",
       "    </tr>\n",
       "    <tr>\n",
       "      <th>5</th>\n",
       "      <td>오메가3</td>\n",
       "      <td>NaN</td>\n",
       "      <td>서울</td>\n",
       "      <td>일반의약품</td>\n",
       "      <td>일반의약품</td>\n",
       "      <td>일반의약품</td>\n",
       "      <td>일반의약품</td>\n",
       "    </tr>\n",
       "    <tr>\n",
       "      <th>6</th>\n",
       "      <td>vitamin</td>\n",
       "      <td>2000.0</td>\n",
       "      <td>서울</td>\n",
       "      <td>일반의약품</td>\n",
       "      <td>일반의약품</td>\n",
       "      <td>일반의약품</td>\n",
       "      <td>일반의약품</td>\n",
       "    </tr>\n",
       "    <tr>\n",
       "      <th>7</th>\n",
       "      <td>Vitamin</td>\n",
       "      <td>1000.0</td>\n",
       "      <td>서울</td>\n",
       "      <td>일반의약품</td>\n",
       "      <td>일반의약품</td>\n",
       "      <td>일반의약품</td>\n",
       "      <td>일반의약품</td>\n",
       "    </tr>\n",
       "  </tbody>\n",
       "</table>\n",
       "</div>"
      ],
      "text/plain": [
       "         약품명      가격  지역    종류2     종류    종류3    종류4\n",
       "0        소화제  3500.0  서울  일반의약품  일반의약품  일반의약품  일반의약품\n",
       "1        감기약  3200.0  서울  일반의약품  일반의약품  일반의약품  일반의약품\n",
       "2        비타민  4000.0  서울  일반의약품  일반의약품  일반의약품  일반의약품\n",
       "3  digestive  3200.0  서울  일반의약품  일반의약품  일반의약품  일반의약품\n",
       "4     Omega3  3700.0  서울  일반의약품  일반의약품  일반의약품  일반의약품\n",
       "5       오메가3     NaN  서울  일반의약품  일반의약품  일반의약품  일반의약품\n",
       "6    vitamin  2000.0  서울  일반의약품  일반의약품  일반의약품  일반의약품\n",
       "7    Vitamin  1000.0  서울  일반의약품  일반의약품  일반의약품  일반의약품"
      ]
     },
     "execution_count": 24,
     "metadata": {},
     "output_type": "execute_result"
    }
   ],
   "source": [
    "# \"종류\"라는 컬럼을 만들어일반의약품이라는 내용을 추가해 봅니다.\n",
    "df['종류4'] = '일반의약품'\n",
    "df"
   ]
  },
  {
   "cell_type": "code",
   "execution_count": 25,
   "metadata": {},
   "outputs": [
    {
     "data": {
      "text/html": [
       "<div>\n",
       "<style scoped>\n",
       "    .dataframe tbody tr th:only-of-type {\n",
       "        vertical-align: middle;\n",
       "    }\n",
       "\n",
       "    .dataframe tbody tr th {\n",
       "        vertical-align: top;\n",
       "    }\n",
       "\n",
       "    .dataframe thead th {\n",
       "        text-align: right;\n",
       "    }\n",
       "</style>\n",
       "<table border=\"1\" class=\"dataframe\">\n",
       "  <thead>\n",
       "    <tr style=\"text-align: right;\">\n",
       "      <th></th>\n",
       "      <th>약품명</th>\n",
       "      <th>가격</th>\n",
       "      <th>지역</th>\n",
       "      <th>종류</th>\n",
       "    </tr>\n",
       "  </thead>\n",
       "  <tbody>\n",
       "    <tr>\n",
       "      <th>0</th>\n",
       "      <td>소화제</td>\n",
       "      <td>3500.0</td>\n",
       "      <td>서울</td>\n",
       "      <td>일반의약품</td>\n",
       "    </tr>\n",
       "    <tr>\n",
       "      <th>1</th>\n",
       "      <td>감기약</td>\n",
       "      <td>3200.0</td>\n",
       "      <td>서울</td>\n",
       "      <td>일반의약품</td>\n",
       "    </tr>\n",
       "    <tr>\n",
       "      <th>2</th>\n",
       "      <td>비타민</td>\n",
       "      <td>4000.0</td>\n",
       "      <td>서울</td>\n",
       "      <td>일반의약품</td>\n",
       "    </tr>\n",
       "    <tr>\n",
       "      <th>3</th>\n",
       "      <td>digestive</td>\n",
       "      <td>3200.0</td>\n",
       "      <td>서울</td>\n",
       "      <td>일반의약품</td>\n",
       "    </tr>\n",
       "    <tr>\n",
       "      <th>4</th>\n",
       "      <td>Omega3</td>\n",
       "      <td>3700.0</td>\n",
       "      <td>서울</td>\n",
       "      <td>일반의약품</td>\n",
       "    </tr>\n",
       "    <tr>\n",
       "      <th>5</th>\n",
       "      <td>오메가3</td>\n",
       "      <td>NaN</td>\n",
       "      <td>서울</td>\n",
       "      <td>일반의약품</td>\n",
       "    </tr>\n",
       "    <tr>\n",
       "      <th>6</th>\n",
       "      <td>vitamin</td>\n",
       "      <td>2000.0</td>\n",
       "      <td>서울</td>\n",
       "      <td>일반의약품</td>\n",
       "    </tr>\n",
       "    <tr>\n",
       "      <th>7</th>\n",
       "      <td>Vitamin</td>\n",
       "      <td>1000.0</td>\n",
       "      <td>서울</td>\n",
       "      <td>일반의약품</td>\n",
       "    </tr>\n",
       "  </tbody>\n",
       "</table>\n",
       "</div>"
      ],
      "text/plain": [
       "         약품명      가격  지역     종류\n",
       "0        소화제  3500.0  서울  일반의약품\n",
       "1        감기약  3200.0  서울  일반의약품\n",
       "2        비타민  4000.0  서울  일반의약품\n",
       "3  digestive  3200.0  서울  일반의약품\n",
       "4     Omega3  3700.0  서울  일반의약품\n",
       "5       오메가3     NaN  서울  일반의약품\n",
       "6    vitamin  2000.0  서울  일반의약품\n",
       "7    Vitamin  1000.0  서울  일반의약품"
      ]
     },
     "execution_count": 25,
     "metadata": {},
     "output_type": "execute_result"
    }
   ],
   "source": [
    "# 실수로 컬럼을 잘못 추가했거나 삭제하고자 할 때\n",
    "# axis 0:행, 1:컬럼을 의미합니다.\n",
    "\n",
    "# 여러개를 삭제하려면 []로 담아서 삭제해야한다.\n",
    "## df.drop([\"종류2\", \"종류3\"], axis=1)\n",
    "\n",
    "# inplace를 쓰는 것(메모리에 저장하는 방법)을 권장하지 않고 앞에 변수에 다시 넣는 것을 권장한다.\n",
    "##df = df.drop([\"종류2\", \"종류3\", \"종류4\"], axis=1)\n",
    "\n",
    "df = df.drop(['종류2', '종류3', '종류4'], axis=1)\n",
    "df"
   ]
  },
  {
   "cell_type": "markdown",
   "metadata": {},
   "source": [
    "# | 데이터 요약하기"
   ]
  },
  {
   "cell_type": "code",
   "execution_count": 26,
   "metadata": {
    "scrolled": true
   },
   "outputs": [
    {
     "name": "stdout",
     "output_type": "stream",
     "text": [
      "<class 'pandas.core.frame.DataFrame'>\n",
      "RangeIndex: 8 entries, 0 to 7\n",
      "Data columns (total 4 columns):\n",
      " #   Column  Non-Null Count  Dtype  \n",
      "---  ------  --------------  -----  \n",
      " 0   약품명     8 non-null      object \n",
      " 1   가격      7 non-null      float64\n",
      " 2   지역      8 non-null      object \n",
      " 3   종류      8 non-null      object \n",
      "dtypes: float64(1), object(3)\n",
      "memory usage: 384.0+ bytes\n"
     ]
    }
   ],
   "source": [
    "# 내부의 약속\n",
    "## () 있는 것 : 함수(method)가 있는 것을 의미하고 \n",
    "## () 없는 것 : attribute    \n",
    "\n",
    "## 참조 : https://pandas.pydata.org/docs/reference/frame.html \n",
    "    \n",
    "# 데이터 프레임의 '정보'를 봅니다.\n",
    "\n",
    "df.info()"
   ]
  },
  {
   "cell_type": "code",
   "execution_count": 27,
   "metadata": {},
   "outputs": [
    {
     "data": {
      "text/plain": [
       "(8, 4)"
      ]
     },
     "execution_count": 27,
     "metadata": {},
     "output_type": "execute_result"
    }
   ],
   "source": [
    "# 데이터 프레임의 크기를 출력합니다.\n",
    "# (행, 열)\n",
    "\n",
    "df.shape"
   ]
  },
  {
   "cell_type": "code",
   "execution_count": 28,
   "metadata": {},
   "outputs": [
    {
     "data": {
      "text/plain": [
       "약품명     object\n",
       "가격     float64\n",
       "지역      object\n",
       "종류      object\n",
       "dtype: object"
      ]
     },
     "execution_count": 28,
     "metadata": {},
     "output_type": "execute_result"
    }
   ],
   "source": [
    "# 데이터의 타입만 봅니다.\n",
    "\n",
    "df.dtypes"
   ]
  },
  {
   "cell_type": "code",
   "execution_count": 31,
   "metadata": {},
   "outputs": [
    {
     "data": {
      "text/html": [
       "<div>\n",
       "<style scoped>\n",
       "    .dataframe tbody tr th:only-of-type {\n",
       "        vertical-align: middle;\n",
       "    }\n",
       "\n",
       "    .dataframe tbody tr th {\n",
       "        vertical-align: top;\n",
       "    }\n",
       "\n",
       "    .dataframe thead th {\n",
       "        text-align: right;\n",
       "    }\n",
       "</style>\n",
       "<table border=\"1\" class=\"dataframe\">\n",
       "  <thead>\n",
       "    <tr style=\"text-align: right;\">\n",
       "      <th></th>\n",
       "      <th>가격</th>\n",
       "    </tr>\n",
       "  </thead>\n",
       "  <tbody>\n",
       "    <tr>\n",
       "      <th>count</th>\n",
       "      <td>7.000000</td>\n",
       "    </tr>\n",
       "    <tr>\n",
       "      <th>mean</th>\n",
       "      <td>2942.857143</td>\n",
       "    </tr>\n",
       "    <tr>\n",
       "      <th>std</th>\n",
       "      <td>1064.357620</td>\n",
       "    </tr>\n",
       "    <tr>\n",
       "      <th>min</th>\n",
       "      <td>1000.000000</td>\n",
       "    </tr>\n",
       "    <tr>\n",
       "      <th>25%</th>\n",
       "      <td>2600.000000</td>\n",
       "    </tr>\n",
       "    <tr>\n",
       "      <th>50%</th>\n",
       "      <td>3200.000000</td>\n",
       "    </tr>\n",
       "    <tr>\n",
       "      <th>75%</th>\n",
       "      <td>3600.000000</td>\n",
       "    </tr>\n",
       "    <tr>\n",
       "      <th>max</th>\n",
       "      <td>4000.000000</td>\n",
       "    </tr>\n",
       "  </tbody>\n",
       "</table>\n",
       "</div>"
      ],
      "text/plain": [
       "                가격\n",
       "count     7.000000\n",
       "mean   2942.857143\n",
       "std    1064.357620\n",
       "min    1000.000000\n",
       "25%    2600.000000\n",
       "50%    3200.000000\n",
       "75%    3600.000000\n",
       "max    4000.000000"
      ]
     },
     "execution_count": 31,
     "metadata": {},
     "output_type": "execute_result"
    }
   ],
   "source": [
    "# 데이터프레임의 요약정보를 가져옵니다.\n",
    "# 수치형 데이터의 기술통계 값을 봅니다.\n",
    "# 괄호 안에 shift + Tab를 입력하면 정보가 다 나온다.\n",
    "\n",
    "# 범주형 = 카테고리형 (나눌 수 있는 개념) \n",
    "\n",
    "df.describe()\n"
   ]
  },
  {
   "cell_type": "code",
   "execution_count": 32,
   "metadata": {},
   "outputs": [
    {
     "data": {
      "text/html": [
       "<div>\n",
       "<style scoped>\n",
       "    .dataframe tbody tr th:only-of-type {\n",
       "        vertical-align: middle;\n",
       "    }\n",
       "\n",
       "    .dataframe tbody tr th {\n",
       "        vertical-align: top;\n",
       "    }\n",
       "\n",
       "    .dataframe thead th {\n",
       "        text-align: right;\n",
       "    }\n",
       "</style>\n",
       "<table border=\"1\" class=\"dataframe\">\n",
       "  <thead>\n",
       "    <tr style=\"text-align: right;\">\n",
       "      <th></th>\n",
       "      <th>약품명</th>\n",
       "      <th>지역</th>\n",
       "      <th>종류</th>\n",
       "    </tr>\n",
       "  </thead>\n",
       "  <tbody>\n",
       "    <tr>\n",
       "      <th>count</th>\n",
       "      <td>8</td>\n",
       "      <td>8</td>\n",
       "      <td>8</td>\n",
       "    </tr>\n",
       "    <tr>\n",
       "      <th>unique</th>\n",
       "      <td>8</td>\n",
       "      <td>1</td>\n",
       "      <td>1</td>\n",
       "    </tr>\n",
       "    <tr>\n",
       "      <th>top</th>\n",
       "      <td>Vitamin</td>\n",
       "      <td>서울</td>\n",
       "      <td>일반의약품</td>\n",
       "    </tr>\n",
       "    <tr>\n",
       "      <th>freq</th>\n",
       "      <td>1</td>\n",
       "      <td>8</td>\n",
       "      <td>8</td>\n",
       "    </tr>\n",
       "  </tbody>\n",
       "</table>\n",
       "</div>"
      ],
      "text/plain": [
       "            약품명  지역     종류\n",
       "count         8   8      8\n",
       "unique        8   1      1\n",
       "top     Vitamin  서울  일반의약품\n",
       "freq          1   8      8"
      ]
     },
     "execution_count": 32,
     "metadata": {},
     "output_type": "execute_result"
    }
   ],
   "source": [
    "# 범주형 데이터의 기술통계 값을 봅니다.\n",
    "\n",
    "## 다른 방법\n",
    "### df.describe(include='float')\n",
    "### df.describe(include='float64')\n",
    "### df.describe(exclude='float64')\n",
    "\n",
    "## 03.P26 (Attribute & Methods)\n",
    "## 출처 : https://pandas.pydata.org/docs/reference/frame.html (자주봐서 Attribute & Methods 눈에 익히기)\n",
    "\n",
    "df.describe(include='object')"
   ]
  },
  {
   "cell_type": "markdown",
   "metadata": {},
   "source": [
    "## 컬럼명으로 데이터 가져오기"
   ]
  },
  {
   "cell_type": "code",
   "execution_count": 33,
   "metadata": {
    "scrolled": true
   },
   "outputs": [
    {
     "data": {
      "text/html": [
       "<div>\n",
       "<style scoped>\n",
       "    .dataframe tbody tr th:only-of-type {\n",
       "        vertical-align: middle;\n",
       "    }\n",
       "\n",
       "    .dataframe tbody tr th {\n",
       "        vertical-align: top;\n",
       "    }\n",
       "\n",
       "    .dataframe thead th {\n",
       "        text-align: right;\n",
       "    }\n",
       "</style>\n",
       "<table border=\"1\" class=\"dataframe\">\n",
       "  <thead>\n",
       "    <tr style=\"text-align: right;\">\n",
       "      <th></th>\n",
       "      <th>약품명</th>\n",
       "      <th>가격</th>\n",
       "      <th>지역</th>\n",
       "      <th>종류</th>\n",
       "    </tr>\n",
       "  </thead>\n",
       "  <tbody>\n",
       "    <tr>\n",
       "      <th>0</th>\n",
       "      <td>소화제</td>\n",
       "      <td>3500.0</td>\n",
       "      <td>서울</td>\n",
       "      <td>일반의약품</td>\n",
       "    </tr>\n",
       "    <tr>\n",
       "      <th>1</th>\n",
       "      <td>감기약</td>\n",
       "      <td>3200.0</td>\n",
       "      <td>서울</td>\n",
       "      <td>일반의약품</td>\n",
       "    </tr>\n",
       "    <tr>\n",
       "      <th>2</th>\n",
       "      <td>비타민</td>\n",
       "      <td>4000.0</td>\n",
       "      <td>서울</td>\n",
       "      <td>일반의약품</td>\n",
       "    </tr>\n",
       "    <tr>\n",
       "      <th>3</th>\n",
       "      <td>digestive</td>\n",
       "      <td>3200.0</td>\n",
       "      <td>서울</td>\n",
       "      <td>일반의약품</td>\n",
       "    </tr>\n",
       "    <tr>\n",
       "      <th>4</th>\n",
       "      <td>Omega3</td>\n",
       "      <td>3700.0</td>\n",
       "      <td>서울</td>\n",
       "      <td>일반의약품</td>\n",
       "    </tr>\n",
       "    <tr>\n",
       "      <th>5</th>\n",
       "      <td>오메가3</td>\n",
       "      <td>NaN</td>\n",
       "      <td>서울</td>\n",
       "      <td>일반의약품</td>\n",
       "    </tr>\n",
       "    <tr>\n",
       "      <th>6</th>\n",
       "      <td>vitamin</td>\n",
       "      <td>2000.0</td>\n",
       "      <td>서울</td>\n",
       "      <td>일반의약품</td>\n",
       "    </tr>\n",
       "    <tr>\n",
       "      <th>7</th>\n",
       "      <td>Vitamin</td>\n",
       "      <td>1000.0</td>\n",
       "      <td>서울</td>\n",
       "      <td>일반의약품</td>\n",
       "    </tr>\n",
       "  </tbody>\n",
       "</table>\n",
       "</div>"
      ],
      "text/plain": [
       "         약품명      가격  지역     종류\n",
       "0        소화제  3500.0  서울  일반의약품\n",
       "1        감기약  3200.0  서울  일반의약품\n",
       "2        비타민  4000.0  서울  일반의약품\n",
       "3  digestive  3200.0  서울  일반의약품\n",
       "4     Omega3  3700.0  서울  일반의약품\n",
       "5       오메가3     NaN  서울  일반의약품\n",
       "6    vitamin  2000.0  서울  일반의약품\n",
       "7    Vitamin  1000.0  서울  일반의약품"
      ]
     },
     "execution_count": 33,
     "metadata": {},
     "output_type": "execute_result"
    }
   ],
   "source": [
    "df"
   ]
  },
  {
   "cell_type": "code",
   "execution_count": 34,
   "metadata": {
    "scrolled": true
   },
   "outputs": [
    {
     "data": {
      "text/plain": [
       "0          소화제\n",
       "1          감기약\n",
       "2          비타민\n",
       "3    digestive\n",
       "4       Omega3\n",
       "5         오메가3\n",
       "6      vitamin\n",
       "7      Vitamin\n",
       "Name: 약품명, dtype: object"
      ]
     },
     "execution_count": 34,
     "metadata": {},
     "output_type": "execute_result"
    }
   ],
   "source": [
    "df['약품명']"
   ]
  },
  {
   "cell_type": "code",
   "execution_count": 35,
   "metadata": {},
   "outputs": [
    {
     "data": {
      "text/plain": [
       "0    3500.0\n",
       "1    3200.0\n",
       "2    4000.0\n",
       "3    3200.0\n",
       "4    3700.0\n",
       "5       NaN\n",
       "6    2000.0\n",
       "7    1000.0\n",
       "Name: 가격, dtype: float64"
      ]
     },
     "execution_count": 35,
     "metadata": {},
     "output_type": "execute_result"
    }
   ],
   "source": [
    "df['가격']"
   ]
  },
  {
   "cell_type": "markdown",
   "metadata": {},
   "source": [
    "## 2개 이상의 컬럼명 가져오기\n",
    "* 파이썬에서 2개 이상의 데이터를 다룰 때는 보통 리스트 자료형을 사용합니다.\n",
    "* 리스트는 대괄호[ ]로 묶여져 있는 데이터를 의미합니다."
   ]
  },
  {
   "cell_type": "code",
   "execution_count": null,
   "metadata": {},
   "outputs": [],
   "source": [
    "# 자료를 묶어서 가져와야 한다. (시리즈 + [] = 리스트)"
   ]
  },
  {
   "cell_type": "code",
   "execution_count": 36,
   "metadata": {},
   "outputs": [
    {
     "data": {
      "text/html": [
       "<div>\n",
       "<style scoped>\n",
       "    .dataframe tbody tr th:only-of-type {\n",
       "        vertical-align: middle;\n",
       "    }\n",
       "\n",
       "    .dataframe tbody tr th {\n",
       "        vertical-align: top;\n",
       "    }\n",
       "\n",
       "    .dataframe thead th {\n",
       "        text-align: right;\n",
       "    }\n",
       "</style>\n",
       "<table border=\"1\" class=\"dataframe\">\n",
       "  <thead>\n",
       "    <tr style=\"text-align: right;\">\n",
       "      <th></th>\n",
       "      <th>약품명</th>\n",
       "      <th>가격</th>\n",
       "    </tr>\n",
       "  </thead>\n",
       "  <tbody>\n",
       "    <tr>\n",
       "      <th>0</th>\n",
       "      <td>소화제</td>\n",
       "      <td>3500.0</td>\n",
       "    </tr>\n",
       "    <tr>\n",
       "      <th>1</th>\n",
       "      <td>감기약</td>\n",
       "      <td>3200.0</td>\n",
       "    </tr>\n",
       "    <tr>\n",
       "      <th>2</th>\n",
       "      <td>비타민</td>\n",
       "      <td>4000.0</td>\n",
       "    </tr>\n",
       "    <tr>\n",
       "      <th>3</th>\n",
       "      <td>digestive</td>\n",
       "      <td>3200.0</td>\n",
       "    </tr>\n",
       "    <tr>\n",
       "      <th>4</th>\n",
       "      <td>Omega3</td>\n",
       "      <td>3700.0</td>\n",
       "    </tr>\n",
       "    <tr>\n",
       "      <th>5</th>\n",
       "      <td>오메가3</td>\n",
       "      <td>NaN</td>\n",
       "    </tr>\n",
       "    <tr>\n",
       "      <th>6</th>\n",
       "      <td>vitamin</td>\n",
       "      <td>2000.0</td>\n",
       "    </tr>\n",
       "    <tr>\n",
       "      <th>7</th>\n",
       "      <td>Vitamin</td>\n",
       "      <td>1000.0</td>\n",
       "    </tr>\n",
       "  </tbody>\n",
       "</table>\n",
       "</div>"
      ],
      "text/plain": [
       "         약품명      가격\n",
       "0        소화제  3500.0\n",
       "1        감기약  3200.0\n",
       "2        비타민  4000.0\n",
       "3  digestive  3200.0\n",
       "4     Omega3  3700.0\n",
       "5       오메가3     NaN\n",
       "6    vitamin  2000.0\n",
       "7    Vitamin  1000.0"
      ]
     },
     "execution_count": 36,
     "metadata": {},
     "output_type": "execute_result"
    }
   ],
   "source": [
    "df[['약품명', '가격']]"
   ]
  },
  {
   "cell_type": "markdown",
   "metadata": {},
   "source": [
    "## 행을 기준으로 데이터 가져오기"
   ]
  },
  {
   "cell_type": "code",
   "execution_count": 38,
   "metadata": {},
   "outputs": [
    {
     "data": {
      "text/plain": [
       "약품명       소화제\n",
       "가격     3500.0\n",
       "지역         서울\n",
       "종류      일반의약품\n",
       "Name: 0, dtype: object"
      ]
     },
     "execution_count": 38,
     "metadata": {},
     "output_type": "execute_result"
    }
   ],
   "source": [
    "# 인덱스 번호로 첫번째 데이터 가져오기\n",
    "\n",
    "df.loc[0]"
   ]
  },
  {
   "cell_type": "code",
   "execution_count": 40,
   "metadata": {},
   "outputs": [
    {
     "data": {
      "text/html": [
       "<div>\n",
       "<style scoped>\n",
       "    .dataframe tbody tr th:only-of-type {\n",
       "        vertical-align: middle;\n",
       "    }\n",
       "\n",
       "    .dataframe tbody tr th {\n",
       "        vertical-align: top;\n",
       "    }\n",
       "\n",
       "    .dataframe thead th {\n",
       "        text-align: right;\n",
       "    }\n",
       "</style>\n",
       "<table border=\"1\" class=\"dataframe\">\n",
       "  <thead>\n",
       "    <tr style=\"text-align: right;\">\n",
       "      <th></th>\n",
       "      <th>약품명</th>\n",
       "      <th>가격</th>\n",
       "      <th>지역</th>\n",
       "      <th>종류</th>\n",
       "    </tr>\n",
       "  </thead>\n",
       "  <tbody>\n",
       "    <tr>\n",
       "      <th>0</th>\n",
       "      <td>소화제</td>\n",
       "      <td>3500.0</td>\n",
       "      <td>서울</td>\n",
       "      <td>일반의약품</td>\n",
       "    </tr>\n",
       "    <tr>\n",
       "      <th>1</th>\n",
       "      <td>감기약</td>\n",
       "      <td>3200.0</td>\n",
       "      <td>서울</td>\n",
       "      <td>일반의약품</td>\n",
       "    </tr>\n",
       "    <tr>\n",
       "      <th>2</th>\n",
       "      <td>비타민</td>\n",
       "      <td>4000.0</td>\n",
       "      <td>서울</td>\n",
       "      <td>일반의약품</td>\n",
       "    </tr>\n",
       "  </tbody>\n",
       "</table>\n",
       "</div>"
      ],
      "text/plain": [
       "   약품명      가격  지역     종류\n",
       "0  소화제  3500.0  서울  일반의약품\n",
       "1  감기약  3200.0  서울  일반의약품\n",
       "2  비타민  4000.0  서울  일반의약품"
      ]
     },
     "execution_count": 40,
     "metadata": {},
     "output_type": "execute_result"
    }
   ],
   "source": [
    "# 여러개를 가져오기 때문에 위와 똑같은 개념으로 [] 묶어야 한다.\n",
    "# 위에서 3개의 행 데이터 가져오기\n",
    "\n",
    "df.loc[[0,1,2]]"
   ]
  },
  {
   "cell_type": "markdown",
   "metadata": {},
   "source": [
    "## 행과 열을 함께 가져오기"
   ]
  },
  {
   "cell_type": "code",
   "execution_count": 41,
   "metadata": {},
   "outputs": [
    {
     "data": {
      "text/plain": [
       "'소화제'"
      ]
     },
     "execution_count": 41,
     "metadata": {},
     "output_type": "execute_result"
    }
   ],
   "source": [
    "# loc[행, 열]\n",
    "# index / columns\n",
    "\n",
    "df.loc[0, \"약품명\"]"
   ]
  },
  {
   "cell_type": "code",
   "execution_count": 43,
   "metadata": {},
   "outputs": [
    {
     "data": {
      "text/plain": [
       "0    소화제\n",
       "1    감기약\n",
       "Name: 약품명, dtype: object"
      ]
     },
     "execution_count": 43,
     "metadata": {},
     "output_type": "execute_result"
    }
   ],
   "source": [
    "# loc[행, 열]\n",
    "df.loc[[0,1], \"약품명\"]"
   ]
  },
  {
   "cell_type": "code",
   "execution_count": 44,
   "metadata": {},
   "outputs": [
    {
     "data": {
      "text/html": [
       "<div>\n",
       "<style scoped>\n",
       "    .dataframe tbody tr th:only-of-type {\n",
       "        vertical-align: middle;\n",
       "    }\n",
       "\n",
       "    .dataframe tbody tr th {\n",
       "        vertical-align: top;\n",
       "    }\n",
       "\n",
       "    .dataframe thead th {\n",
       "        text-align: right;\n",
       "    }\n",
       "</style>\n",
       "<table border=\"1\" class=\"dataframe\">\n",
       "  <thead>\n",
       "    <tr style=\"text-align: right;\">\n",
       "      <th></th>\n",
       "      <th>약품명</th>\n",
       "      <th>가격</th>\n",
       "    </tr>\n",
       "  </thead>\n",
       "  <tbody>\n",
       "    <tr>\n",
       "      <th>0</th>\n",
       "      <td>소화제</td>\n",
       "      <td>3500.0</td>\n",
       "    </tr>\n",
       "    <tr>\n",
       "      <th>1</th>\n",
       "      <td>감기약</td>\n",
       "      <td>3200.0</td>\n",
       "    </tr>\n",
       "  </tbody>\n",
       "</table>\n",
       "</div>"
      ],
      "text/plain": [
       "   약품명      가격\n",
       "0  소화제  3500.0\n",
       "1  감기약  3200.0"
      ]
     },
     "execution_count": 44,
     "metadata": {},
     "output_type": "execute_result"
    }
   ],
   "source": [
    "df.loc[[0,1], [\"약품명\", \"가격\"]]"
   ]
  },
  {
   "cell_type": "code",
   "execution_count": 62,
   "metadata": {},
   "outputs": [
    {
     "data": {
      "text/html": [
       "<div>\n",
       "<style scoped>\n",
       "    .dataframe tbody tr th:only-of-type {\n",
       "        vertical-align: middle;\n",
       "    }\n",
       "\n",
       "    .dataframe tbody tr th {\n",
       "        vertical-align: top;\n",
       "    }\n",
       "\n",
       "    .dataframe thead th {\n",
       "        text-align: right;\n",
       "    }\n",
       "</style>\n",
       "<table border=\"1\" class=\"dataframe\">\n",
       "  <thead>\n",
       "    <tr style=\"text-align: right;\">\n",
       "      <th></th>\n",
       "      <th>약품명</th>\n",
       "      <th>가격</th>\n",
       "    </tr>\n",
       "  </thead>\n",
       "  <tbody>\n",
       "    <tr>\n",
       "      <th>0</th>\n",
       "      <td>소화제</td>\n",
       "      <td>3500.0</td>\n",
       "    </tr>\n",
       "    <tr>\n",
       "      <th>1</th>\n",
       "      <td>감기약</td>\n",
       "      <td>3200.0</td>\n",
       "    </tr>\n",
       "  </tbody>\n",
       "</table>\n",
       "</div>"
      ],
      "text/plain": [
       "   약품명      가격\n",
       "0  소화제  3500.0\n",
       "1  감기약  3200.0"
      ]
     },
     "execution_count": 62,
     "metadata": {},
     "output_type": "execute_result"
    }
   ],
   "source": [
    "df.loc[[0,1], [\"약품명\", \"가격\"]]"
   ]
  },
  {
   "cell_type": "markdown",
   "metadata": {},
   "source": [
    "## 특정약품만 가져오기 (# 불리언 인덱싱(boolean indexing))"
   ]
  },
  {
   "cell_type": "code",
   "execution_count": 45,
   "metadata": {
    "scrolled": true
   },
   "outputs": [
    {
     "data": {
      "text/plain": [
       "0    False\n",
       "1    False\n",
       "2    False\n",
       "3    False\n",
       "4    False\n",
       "5    False\n",
       "6     True\n",
       "7    False\n",
       "Name: 약품명, dtype: bool"
      ]
     },
     "execution_count": 45,
     "metadata": {},
     "output_type": "execute_result"
    }
   ],
   "source": [
    "# 파이썬의 정규표현식에서는 |는 or를 &는 and를 의미합니다.\n",
    "# 여러 검색어로 검색을 한다 가정하고 | 로 검색어를 넣어준다고 생각하면 됩니다.\n",
    "# str.contains 를 사용해서 약품명을 가져올 수 있습니다.\n",
    "# 불리언 인덱싱(boolean indexing) -> 아래 방식\n",
    "\n",
    "df['약품명'].str.contains(\"vita\")"
   ]
  },
  {
   "cell_type": "code",
   "execution_count": 47,
   "metadata": {},
   "outputs": [
    {
     "data": {
      "text/html": [
       "<div>\n",
       "<style scoped>\n",
       "    .dataframe tbody tr th:only-of-type {\n",
       "        vertical-align: middle;\n",
       "    }\n",
       "\n",
       "    .dataframe tbody tr th {\n",
       "        vertical-align: top;\n",
       "    }\n",
       "\n",
       "    .dataframe thead th {\n",
       "        text-align: right;\n",
       "    }\n",
       "</style>\n",
       "<table border=\"1\" class=\"dataframe\">\n",
       "  <thead>\n",
       "    <tr style=\"text-align: right;\">\n",
       "      <th></th>\n",
       "      <th>약품명</th>\n",
       "      <th>가격</th>\n",
       "      <th>지역</th>\n",
       "      <th>종류</th>\n",
       "    </tr>\n",
       "  </thead>\n",
       "  <tbody>\n",
       "    <tr>\n",
       "      <th>6</th>\n",
       "      <td>vitamin</td>\n",
       "      <td>2000.0</td>\n",
       "      <td>서울</td>\n",
       "      <td>일반의약품</td>\n",
       "    </tr>\n",
       "  </tbody>\n",
       "</table>\n",
       "</div>"
      ],
      "text/plain": [
       "       약품명      가격  지역     종류\n",
       "6  vitamin  2000.0  서울  일반의약품"
      ]
     },
     "execution_count": 47,
     "metadata": {},
     "output_type": "execute_result"
    }
   ],
   "source": [
    "df[df['약품명'].str.contains('vita')]"
   ]
  },
  {
   "cell_type": "code",
   "execution_count": 52,
   "metadata": {},
   "outputs": [
    {
     "data": {
      "text/plain": [
       "0          소화제\n",
       "1          감기약\n",
       "2          비타민\n",
       "3    DIGESTIVE\n",
       "4       OMEGA3\n",
       "5         오메가3\n",
       "6      VITAMIN\n",
       "7      VITAMIN\n",
       "Name: 약품명, dtype: object"
      ]
     },
     "execution_count": 52,
     "metadata": {},
     "output_type": "execute_result"
    }
   ],
   "source": [
    "# 하지만 파이썬은 대소문자를 구분합니다.\n",
    "df['약품명'].str.upper()"
   ]
  },
  {
   "cell_type": "code",
   "execution_count": 67,
   "metadata": {},
   "outputs": [
    {
     "data": {
      "text/plain": [
       "0          소화제\n",
       "1          감기약\n",
       "2          비타민\n",
       "3    digestive\n",
       "4       omega3\n",
       "5         오메가3\n",
       "6      vitamin\n",
       "7      vitamin\n",
       "Name: 약품명, dtype: object"
      ]
     },
     "execution_count": 67,
     "metadata": {},
     "output_type": "execute_result"
    }
   ],
   "source": [
    "# 약품명을 모두 소문자로 만듭니다.\n",
    "\n",
    "df[\"약품명\"].str.lower()"
   ]
  },
  {
   "cell_type": "markdown",
   "metadata": {},
   "source": [
    "### 파생변수 만들기\n",
    "<img src=\"https://pandas.pydata.org/docs/_images/05_newcolumn_2.svg\">"
   ]
  },
  {
   "cell_type": "code",
   "execution_count": 54,
   "metadata": {},
   "outputs": [
    {
     "data": {
      "text/plain": [
       "0          소화제\n",
       "1          감기약\n",
       "2          비타민\n",
       "3    digestive\n",
       "4       omega3\n",
       "5         오메가3\n",
       "6      vitamin\n",
       "7      vitamin\n",
       "Name: 약품명_소문자, dtype: object"
      ]
     },
     "execution_count": 54,
     "metadata": {},
     "output_type": "execute_result"
    }
   ],
   "source": [
    "# 대소문자로 인해 검색이 되지 않는 문제를 해결하기 위해 모두 소문자로 만듭니다.\n",
    "# 파이썬의 str 메소드를 사용해서 소문자로 변경이 가능합니다.\n",
    "\n",
    "df['약품명_소문자'] = df['약품명'].str.lower()\n",
    "df['약품명_소문자']"
   ]
  },
  {
   "cell_type": "markdown",
   "metadata": {},
   "source": [
    "# 예제문제 풀어보기 : https://pandas.pydata.org/docs/user_guide/text.html"
   ]
  },
  {
   "cell_type": "code",
   "execution_count": 56,
   "metadata": {
    "scrolled": true
   },
   "outputs": [
    {
     "data": {
      "text/plain": [
       "0    False\n",
       "1    False\n",
       "2     True\n",
       "3    False\n",
       "4    False\n",
       "5    False\n",
       "6     True\n",
       "7     True\n",
       "Name: 약품명_소문자, dtype: bool"
      ]
     },
     "execution_count": 56,
     "metadata": {},
     "output_type": "execute_result"
    }
   ],
   "source": [
    "# 약품명_소문자 컬럼에서 \"vita|비타\" 값이 들어가는 문자를 찾습니다.\n",
    "\n",
    "df['약품명_소문자'].str.contains('vita|비타')"
   ]
  },
  {
   "cell_type": "code",
   "execution_count": 71,
   "metadata": {},
   "outputs": [
    {
     "data": {
      "text/html": [
       "<div>\n",
       "<style scoped>\n",
       "    .dataframe tbody tr th:only-of-type {\n",
       "        vertical-align: middle;\n",
       "    }\n",
       "\n",
       "    .dataframe tbody tr th {\n",
       "        vertical-align: top;\n",
       "    }\n",
       "\n",
       "    .dataframe thead th {\n",
       "        text-align: right;\n",
       "    }\n",
       "</style>\n",
       "<table border=\"1\" class=\"dataframe\">\n",
       "  <thead>\n",
       "    <tr style=\"text-align: right;\">\n",
       "      <th></th>\n",
       "      <th>약품명</th>\n",
       "      <th>가격</th>\n",
       "      <th>지역</th>\n",
       "      <th>종류</th>\n",
       "      <th>약품명_소문자</th>\n",
       "    </tr>\n",
       "  </thead>\n",
       "  <tbody>\n",
       "    <tr>\n",
       "      <th>2</th>\n",
       "      <td>비타민</td>\n",
       "      <td>4000.0</td>\n",
       "      <td>서울</td>\n",
       "      <td>일반의약품</td>\n",
       "      <td>비타민</td>\n",
       "    </tr>\n",
       "    <tr>\n",
       "      <th>6</th>\n",
       "      <td>vitamin</td>\n",
       "      <td>2000.0</td>\n",
       "      <td>서울</td>\n",
       "      <td>일반의약품</td>\n",
       "      <td>vitamin</td>\n",
       "    </tr>\n",
       "    <tr>\n",
       "      <th>7</th>\n",
       "      <td>Vitamin</td>\n",
       "      <td>1000.0</td>\n",
       "      <td>서울</td>\n",
       "      <td>일반의약품</td>\n",
       "      <td>vitamin</td>\n",
       "    </tr>\n",
       "  </tbody>\n",
       "</table>\n",
       "</div>"
      ],
      "text/plain": [
       "       약품명      가격  지역     종류  약품명_소문자\n",
       "2      비타민  4000.0  서울  일반의약품      비타민\n",
       "6  vitamin  2000.0  서울  일반의약품  vitamin\n",
       "7  Vitamin  1000.0  서울  일반의약품  vitamin"
      ]
     },
     "execution_count": 71,
     "metadata": {},
     "output_type": "execute_result"
    }
   ],
   "source": [
    "df[df[\"약품명_소문자\"].str.contains(\"vita|비타\")]"
   ]
  },
  {
   "cell_type": "code",
   "execution_count": 58,
   "metadata": {},
   "outputs": [
    {
     "data": {
      "text/html": [
       "<div>\n",
       "<style scoped>\n",
       "    .dataframe tbody tr th:only-of-type {\n",
       "        vertical-align: middle;\n",
       "    }\n",
       "\n",
       "    .dataframe tbody tr th {\n",
       "        vertical-align: top;\n",
       "    }\n",
       "\n",
       "    .dataframe thead th {\n",
       "        text-align: right;\n",
       "    }\n",
       "</style>\n",
       "<table border=\"1\" class=\"dataframe\">\n",
       "  <thead>\n",
       "    <tr style=\"text-align: right;\">\n",
       "      <th></th>\n",
       "      <th>약품명</th>\n",
       "      <th>가격</th>\n",
       "      <th>지역</th>\n",
       "      <th>종류</th>\n",
       "      <th>약품명_소문자</th>\n",
       "    </tr>\n",
       "  </thead>\n",
       "  <tbody>\n",
       "  </tbody>\n",
       "</table>\n",
       "</div>"
      ],
      "text/plain": [
       "Empty DataFrame\n",
       "Columns: [약품명, 가격, 지역, 종류, 약품명_소문자]\n",
       "Index: []"
      ]
     },
     "execution_count": 58,
     "metadata": {},
     "output_type": "execute_result"
    }
   ],
   "source": [
    "# 파이썬의 정규표현식에서는 \n",
    "# |(엔터키 위에 있는 키를 shift키를 누르시면 나옵니다.)는 or를 &는 and를 의미합니다.\n",
    "\n",
    "df[df[\"약품명_소문자\"].str.contains(\"vita&비타\")]"
   ]
  },
  {
   "cell_type": "markdown",
   "metadata": {},
   "source": [
    "## 가격이 특정 금액 이상인 것만 가져옵니다.\n",
    "\n",
    "<img src=\"https://pandas.pydata.org/docs/_images/03_subset_columns_rows.svg\">"
   ]
  },
  {
   "cell_type": "code",
   "execution_count": 59,
   "metadata": {
    "scrolled": true
   },
   "outputs": [
    {
     "data": {
      "text/plain": [
       "0    False\n",
       "1    False\n",
       "2     True\n",
       "3    False\n",
       "4     True\n",
       "5    False\n",
       "6    False\n",
       "7    False\n",
       "Name: 가격, dtype: bool"
      ]
     },
     "execution_count": 59,
     "metadata": {},
     "output_type": "execute_result"
    }
   ],
   "source": [
    "# 특정 금액 이상의 가격에 해당되는 데이터프레임을 가져옵니다.\n",
    "\n",
    "df['가격'] > 3500"
   ]
  },
  {
   "cell_type": "code",
   "execution_count": 60,
   "metadata": {},
   "outputs": [
    {
     "data": {
      "text/html": [
       "<div>\n",
       "<style scoped>\n",
       "    .dataframe tbody tr th:only-of-type {\n",
       "        vertical-align: middle;\n",
       "    }\n",
       "\n",
       "    .dataframe tbody tr th {\n",
       "        vertical-align: top;\n",
       "    }\n",
       "\n",
       "    .dataframe thead th {\n",
       "        text-align: right;\n",
       "    }\n",
       "</style>\n",
       "<table border=\"1\" class=\"dataframe\">\n",
       "  <thead>\n",
       "    <tr style=\"text-align: right;\">\n",
       "      <th></th>\n",
       "      <th>약품명</th>\n",
       "      <th>가격</th>\n",
       "      <th>지역</th>\n",
       "      <th>종류</th>\n",
       "      <th>약품명_소문자</th>\n",
       "    </tr>\n",
       "  </thead>\n",
       "  <tbody>\n",
       "    <tr>\n",
       "      <th>2</th>\n",
       "      <td>비타민</td>\n",
       "      <td>4000.0</td>\n",
       "      <td>서울</td>\n",
       "      <td>일반의약품</td>\n",
       "      <td>비타민</td>\n",
       "    </tr>\n",
       "    <tr>\n",
       "      <th>4</th>\n",
       "      <td>Omega3</td>\n",
       "      <td>3700.0</td>\n",
       "      <td>서울</td>\n",
       "      <td>일반의약품</td>\n",
       "      <td>omega3</td>\n",
       "    </tr>\n",
       "  </tbody>\n",
       "</table>\n",
       "</div>"
      ],
      "text/plain": [
       "      약품명      가격  지역     종류 약품명_소문자\n",
       "2     비타민  4000.0  서울  일반의약품     비타민\n",
       "4  Omega3  3700.0  서울  일반의약품  omega3"
      ]
     },
     "execution_count": 60,
     "metadata": {},
     "output_type": "execute_result"
    }
   ],
   "source": [
    "# 불리언 인덱싱으로 특정조건만 데이터프레임 형식으로 뽑아내기\n",
    "df[df['가격'] > 3500]"
   ]
  },
  {
   "cell_type": "code",
   "execution_count": 61,
   "metadata": {},
   "outputs": [
    {
     "data": {
      "text/html": [
       "<div>\n",
       "<style scoped>\n",
       "    .dataframe tbody tr th:only-of-type {\n",
       "        vertical-align: middle;\n",
       "    }\n",
       "\n",
       "    .dataframe tbody tr th {\n",
       "        vertical-align: top;\n",
       "    }\n",
       "\n",
       "    .dataframe thead th {\n",
       "        text-align: right;\n",
       "    }\n",
       "</style>\n",
       "<table border=\"1\" class=\"dataframe\">\n",
       "  <thead>\n",
       "    <tr style=\"text-align: right;\">\n",
       "      <th></th>\n",
       "      <th>약품명</th>\n",
       "      <th>가격</th>\n",
       "      <th>지역</th>\n",
       "      <th>종류</th>\n",
       "      <th>약품명_소문자</th>\n",
       "    </tr>\n",
       "  </thead>\n",
       "  <tbody>\n",
       "    <tr>\n",
       "      <th>4</th>\n",
       "      <td>Omega3</td>\n",
       "      <td>3700.0</td>\n",
       "      <td>서울</td>\n",
       "      <td>일반의약품</td>\n",
       "      <td>omega3</td>\n",
       "    </tr>\n",
       "    <tr>\n",
       "      <th>7</th>\n",
       "      <td>Vitamin</td>\n",
       "      <td>1000.0</td>\n",
       "      <td>서울</td>\n",
       "      <td>일반의약품</td>\n",
       "      <td>vitamin</td>\n",
       "    </tr>\n",
       "    <tr>\n",
       "      <th>3</th>\n",
       "      <td>digestive</td>\n",
       "      <td>3200.0</td>\n",
       "      <td>서울</td>\n",
       "      <td>일반의약품</td>\n",
       "      <td>digestive</td>\n",
       "    </tr>\n",
       "    <tr>\n",
       "      <th>6</th>\n",
       "      <td>vitamin</td>\n",
       "      <td>2000.0</td>\n",
       "      <td>서울</td>\n",
       "      <td>일반의약품</td>\n",
       "      <td>vitamin</td>\n",
       "    </tr>\n",
       "    <tr>\n",
       "      <th>1</th>\n",
       "      <td>감기약</td>\n",
       "      <td>3200.0</td>\n",
       "      <td>서울</td>\n",
       "      <td>일반의약품</td>\n",
       "      <td>감기약</td>\n",
       "    </tr>\n",
       "    <tr>\n",
       "      <th>2</th>\n",
       "      <td>비타민</td>\n",
       "      <td>4000.0</td>\n",
       "      <td>서울</td>\n",
       "      <td>일반의약품</td>\n",
       "      <td>비타민</td>\n",
       "    </tr>\n",
       "    <tr>\n",
       "      <th>0</th>\n",
       "      <td>소화제</td>\n",
       "      <td>3500.0</td>\n",
       "      <td>서울</td>\n",
       "      <td>일반의약품</td>\n",
       "      <td>소화제</td>\n",
       "    </tr>\n",
       "    <tr>\n",
       "      <th>5</th>\n",
       "      <td>오메가3</td>\n",
       "      <td>NaN</td>\n",
       "      <td>서울</td>\n",
       "      <td>일반의약품</td>\n",
       "      <td>오메가3</td>\n",
       "    </tr>\n",
       "  </tbody>\n",
       "</table>\n",
       "</div>"
      ],
      "text/plain": [
       "         약품명      가격  지역     종류    약품명_소문자\n",
       "4     Omega3  3700.0  서울  일반의약품     omega3\n",
       "7    Vitamin  1000.0  서울  일반의약품    vitamin\n",
       "3  digestive  3200.0  서울  일반의약품  digestive\n",
       "6    vitamin  2000.0  서울  일반의약품    vitamin\n",
       "1        감기약  3200.0  서울  일반의약품        감기약\n",
       "2        비타민  4000.0  서울  일반의약품        비타민\n",
       "0        소화제  3500.0  서울  일반의약품        소화제\n",
       "5       오메가3     NaN  서울  일반의약품       오메가3"
      ]
     },
     "execution_count": 61,
     "metadata": {},
     "output_type": "execute_result"
    }
   ],
   "source": [
    "# 특정 금액 이상의 가격에 해당되는 데이터프레임을 가져옵니다.\n",
    "# 암묵적인 약속을 맞추면 '키' 값을 안써도 써도 되는데, 약속을 맞추지 않으면 꼭 써야한다.\n",
    " \n",
    "df.sort_values(by=['약품명', '가격'], ascending = [True, False])"
   ]
  },
  {
   "cell_type": "code",
   "execution_count": 84,
   "metadata": {},
   "outputs": [
    {
     "data": {
      "text/html": [
       "<div>\n",
       "<style scoped>\n",
       "    .dataframe tbody tr th:only-of-type {\n",
       "        vertical-align: middle;\n",
       "    }\n",
       "\n",
       "    .dataframe tbody tr th {\n",
       "        vertical-align: top;\n",
       "    }\n",
       "\n",
       "    .dataframe thead th {\n",
       "        text-align: right;\n",
       "    }\n",
       "</style>\n",
       "<table border=\"1\" class=\"dataframe\">\n",
       "  <thead>\n",
       "    <tr style=\"text-align: right;\">\n",
       "      <th></th>\n",
       "      <th>약품명</th>\n",
       "      <th>가격</th>\n",
       "      <th>지역</th>\n",
       "      <th>종류</th>\n",
       "      <th>약품명_소문자</th>\n",
       "    </tr>\n",
       "  </thead>\n",
       "  <tbody>\n",
       "    <tr>\n",
       "      <th>0</th>\n",
       "      <td>소화제</td>\n",
       "      <td>3500.0</td>\n",
       "      <td>서울</td>\n",
       "      <td>일반의약품</td>\n",
       "      <td>소화제</td>\n",
       "    </tr>\n",
       "    <tr>\n",
       "      <th>1</th>\n",
       "      <td>감기약</td>\n",
       "      <td>3200.0</td>\n",
       "      <td>서울</td>\n",
       "      <td>일반의약품</td>\n",
       "      <td>감기약</td>\n",
       "    </tr>\n",
       "    <tr>\n",
       "      <th>2</th>\n",
       "      <td>비타민</td>\n",
       "      <td>4000.0</td>\n",
       "      <td>서울</td>\n",
       "      <td>일반의약품</td>\n",
       "      <td>비타민</td>\n",
       "    </tr>\n",
       "    <tr>\n",
       "      <th>3</th>\n",
       "      <td>digestive</td>\n",
       "      <td>3200.0</td>\n",
       "      <td>서울</td>\n",
       "      <td>일반의약품</td>\n",
       "      <td>digestive</td>\n",
       "    </tr>\n",
       "    <tr>\n",
       "      <th>4</th>\n",
       "      <td>Omega3</td>\n",
       "      <td>3700.0</td>\n",
       "      <td>서울</td>\n",
       "      <td>일반의약품</td>\n",
       "      <td>omega3</td>\n",
       "    </tr>\n",
       "    <tr>\n",
       "      <th>5</th>\n",
       "      <td>오메가3</td>\n",
       "      <td>NaN</td>\n",
       "      <td>서울</td>\n",
       "      <td>일반의약품</td>\n",
       "      <td>오메가3</td>\n",
       "    </tr>\n",
       "    <tr>\n",
       "      <th>6</th>\n",
       "      <td>vitamin</td>\n",
       "      <td>2000.0</td>\n",
       "      <td>서울</td>\n",
       "      <td>일반의약품</td>\n",
       "      <td>vitamin</td>\n",
       "    </tr>\n",
       "    <tr>\n",
       "      <th>7</th>\n",
       "      <td>Vitamin</td>\n",
       "      <td>1000.0</td>\n",
       "      <td>서울</td>\n",
       "      <td>일반의약품</td>\n",
       "      <td>vitamin</td>\n",
       "    </tr>\n",
       "  </tbody>\n",
       "</table>\n",
       "</div>"
      ],
      "text/plain": [
       "         약품명      가격  지역     종류    약품명_소문자\n",
       "0        소화제  3500.0  서울  일반의약품        소화제\n",
       "1        감기약  3200.0  서울  일반의약품        감기약\n",
       "2        비타민  4000.0  서울  일반의약품        비타민\n",
       "3  digestive  3200.0  서울  일반의약품  digestive\n",
       "4     Omega3  3700.0  서울  일반의약품     omega3\n",
       "5       오메가3     NaN  서울  일반의약품       오메가3\n",
       "6    vitamin  2000.0  서울  일반의약품    vitamin\n",
       "7    Vitamin  1000.0  서울  일반의약품    vitamin"
      ]
     },
     "execution_count": 84,
     "metadata": {},
     "output_type": "execute_result"
    }
   ],
   "source": []
  },
  {
   "cell_type": "markdown",
   "metadata": {},
   "source": [
    "## 정렬하기"
   ]
  },
  {
   "cell_type": "code",
   "execution_count": 62,
   "metadata": {},
   "outputs": [],
   "source": [
    "# sort_values 를 통해 정렬합니다.\n",
    "\n"
   ]
  },
  {
   "cell_type": "markdown",
   "metadata": {},
   "source": [
    "## 파일로 저장하기\n",
    "<img src=\"https://pandas.pydata.org/docs/_images/02_io_readwrite.svg\">"
   ]
  },
  {
   "cell_type": "code",
   "execution_count": 91,
   "metadata": {},
   "outputs": [
    {
     "ename": "FileNotFoundError",
     "evalue": "[Errno 2] No such file or directory: 'data/pandas.csv'",
     "output_type": "error",
     "traceback": [
      "\u001b[1;31m---------------------------------------------------------------------------\u001b[0m",
      "\u001b[1;31mFileNotFoundError\u001b[0m                         Traceback (most recent call last)",
      "\u001b[1;32m<ipython-input-91-bb8dab0985fe>\u001b[0m in \u001b[0;36m<module>\u001b[1;34m\u001b[0m\n\u001b[0;32m      2\u001b[0m \u001b[1;31m# (index=False, 이전 인덱스 삭제하기)\u001b[0m\u001b[1;33m\u001b[0m\u001b[1;33m\u001b[0m\u001b[1;33m\u001b[0m\u001b[0m\n\u001b[0;32m      3\u001b[0m \u001b[1;33m\u001b[0m\u001b[0m\n\u001b[1;32m----> 4\u001b[1;33m \u001b[0mdf\u001b[0m\u001b[1;33m.\u001b[0m\u001b[0mto_csv\u001b[0m\u001b[1;33m(\u001b[0m\u001b[1;34m\"data/pandas.csv\"\u001b[0m\u001b[1;33m,\u001b[0m \u001b[0mindex\u001b[0m\u001b[1;33m=\u001b[0m\u001b[1;32mFalse\u001b[0m\u001b[1;33m)\u001b[0m\u001b[1;33m\u001b[0m\u001b[1;33m\u001b[0m\u001b[0m\n\u001b[0m",
      "\u001b[1;32mC:\\ProgramData\\Anaconda3\\lib\\site-packages\\pandas\\core\\generic.py\u001b[0m in \u001b[0;36mto_csv\u001b[1;34m(self, path_or_buf, sep, na_rep, float_format, columns, header, index, index_label, mode, encoding, compression, quoting, quotechar, line_terminator, chunksize, date_format, doublequote, escapechar, decimal, errors, storage_options)\u001b[0m\n\u001b[0;32m   3385\u001b[0m         )\n\u001b[0;32m   3386\u001b[0m \u001b[1;33m\u001b[0m\u001b[0m\n\u001b[1;32m-> 3387\u001b[1;33m         return DataFrameRenderer(formatter).to_csv(\n\u001b[0m\u001b[0;32m   3388\u001b[0m             \u001b[0mpath_or_buf\u001b[0m\u001b[1;33m,\u001b[0m\u001b[1;33m\u001b[0m\u001b[1;33m\u001b[0m\u001b[0m\n\u001b[0;32m   3389\u001b[0m             \u001b[0mline_terminator\u001b[0m\u001b[1;33m=\u001b[0m\u001b[0mline_terminator\u001b[0m\u001b[1;33m,\u001b[0m\u001b[1;33m\u001b[0m\u001b[1;33m\u001b[0m\u001b[0m\n",
      "\u001b[1;32mC:\\ProgramData\\Anaconda3\\lib\\site-packages\\pandas\\io\\formats\\format.py\u001b[0m in \u001b[0;36mto_csv\u001b[1;34m(self, path_or_buf, encoding, sep, columns, index_label, mode, compression, quoting, quotechar, line_terminator, chunksize, date_format, doublequote, escapechar, errors, storage_options)\u001b[0m\n\u001b[0;32m   1081\u001b[0m             \u001b[0mformatter\u001b[0m\u001b[1;33m=\u001b[0m\u001b[0mself\u001b[0m\u001b[1;33m.\u001b[0m\u001b[0mfmt\u001b[0m\u001b[1;33m,\u001b[0m\u001b[1;33m\u001b[0m\u001b[1;33m\u001b[0m\u001b[0m\n\u001b[0;32m   1082\u001b[0m         )\n\u001b[1;32m-> 1083\u001b[1;33m         \u001b[0mcsv_formatter\u001b[0m\u001b[1;33m.\u001b[0m\u001b[0msave\u001b[0m\u001b[1;33m(\u001b[0m\u001b[1;33m)\u001b[0m\u001b[1;33m\u001b[0m\u001b[1;33m\u001b[0m\u001b[0m\n\u001b[0m\u001b[0;32m   1084\u001b[0m \u001b[1;33m\u001b[0m\u001b[0m\n\u001b[0;32m   1085\u001b[0m         \u001b[1;32mif\u001b[0m \u001b[0mcreated_buffer\u001b[0m\u001b[1;33m:\u001b[0m\u001b[1;33m\u001b[0m\u001b[1;33m\u001b[0m\u001b[0m\n",
      "\u001b[1;32mC:\\ProgramData\\Anaconda3\\lib\\site-packages\\pandas\\io\\formats\\csvs.py\u001b[0m in \u001b[0;36msave\u001b[1;34m(self)\u001b[0m\n\u001b[0;32m    226\u001b[0m         \"\"\"\n\u001b[0;32m    227\u001b[0m         \u001b[1;31m# apply compression and byte/text conversion\u001b[0m\u001b[1;33m\u001b[0m\u001b[1;33m\u001b[0m\u001b[1;33m\u001b[0m\u001b[0m\n\u001b[1;32m--> 228\u001b[1;33m         with get_handle(\n\u001b[0m\u001b[0;32m    229\u001b[0m             \u001b[0mself\u001b[0m\u001b[1;33m.\u001b[0m\u001b[0mfilepath_or_buffer\u001b[0m\u001b[1;33m,\u001b[0m\u001b[1;33m\u001b[0m\u001b[1;33m\u001b[0m\u001b[0m\n\u001b[0;32m    230\u001b[0m             \u001b[0mself\u001b[0m\u001b[1;33m.\u001b[0m\u001b[0mmode\u001b[0m\u001b[1;33m,\u001b[0m\u001b[1;33m\u001b[0m\u001b[1;33m\u001b[0m\u001b[0m\n",
      "\u001b[1;32mC:\\ProgramData\\Anaconda3\\lib\\site-packages\\pandas\\io\\common.py\u001b[0m in \u001b[0;36mget_handle\u001b[1;34m(path_or_buf, mode, encoding, compression, memory_map, is_text, errors, storage_options)\u001b[0m\n\u001b[0;32m    640\u001b[0m                 \u001b[0merrors\u001b[0m \u001b[1;33m=\u001b[0m \u001b[1;34m\"replace\"\u001b[0m\u001b[1;33m\u001b[0m\u001b[1;33m\u001b[0m\u001b[0m\n\u001b[0;32m    641\u001b[0m             \u001b[1;31m# Encoding\u001b[0m\u001b[1;33m\u001b[0m\u001b[1;33m\u001b[0m\u001b[1;33m\u001b[0m\u001b[0m\n\u001b[1;32m--> 642\u001b[1;33m             handle = open(\n\u001b[0m\u001b[0;32m    643\u001b[0m                 \u001b[0mhandle\u001b[0m\u001b[1;33m,\u001b[0m\u001b[1;33m\u001b[0m\u001b[1;33m\u001b[0m\u001b[0m\n\u001b[0;32m    644\u001b[0m                 \u001b[0mioargs\u001b[0m\u001b[1;33m.\u001b[0m\u001b[0mmode\u001b[0m\u001b[1;33m,\u001b[0m\u001b[1;33m\u001b[0m\u001b[1;33m\u001b[0m\u001b[0m\n",
      "\u001b[1;31mFileNotFoundError\u001b[0m: [Errno 2] No such file or directory: 'data/pandas.csv'"
     ]
    }
   ],
   "source": [
    "# to_csv 를 통해 csv 파일로 저장합니다. \n",
    "# (index=False, 이전 인덱스 삭제하기)\n",
    "\n",
    "df.to_csv('판다스연습.csv')"
   ]
  },
  {
   "cell_type": "code",
   "execution_count": 88,
   "metadata": {},
   "outputs": [
    {
     "data": {
      "text/html": [
       "<div>\n",
       "<style scoped>\n",
       "    .dataframe tbody tr th:only-of-type {\n",
       "        vertical-align: middle;\n",
       "    }\n",
       "\n",
       "    .dataframe tbody tr th {\n",
       "        vertical-align: top;\n",
       "    }\n",
       "\n",
       "    .dataframe thead th {\n",
       "        text-align: right;\n",
       "    }\n",
       "</style>\n",
       "<table border=\"1\" class=\"dataframe\">\n",
       "  <thead>\n",
       "    <tr style=\"text-align: right;\">\n",
       "      <th></th>\n",
       "      <th>약품명</th>\n",
       "      <th>가격</th>\n",
       "      <th>지역</th>\n",
       "      <th>종류</th>\n",
       "      <th>약품명_소문자</th>\n",
       "    </tr>\n",
       "  </thead>\n",
       "  <tbody>\n",
       "    <tr>\n",
       "      <th>0</th>\n",
       "      <td>소화제</td>\n",
       "      <td>3500.0</td>\n",
       "      <td>서울</td>\n",
       "      <td>일반의약품</td>\n",
       "      <td>소화제</td>\n",
       "    </tr>\n",
       "    <tr>\n",
       "      <th>1</th>\n",
       "      <td>감기약</td>\n",
       "      <td>3200.0</td>\n",
       "      <td>서울</td>\n",
       "      <td>일반의약품</td>\n",
       "      <td>감기약</td>\n",
       "    </tr>\n",
       "    <tr>\n",
       "      <th>2</th>\n",
       "      <td>비타민</td>\n",
       "      <td>4000.0</td>\n",
       "      <td>서울</td>\n",
       "      <td>일반의약품</td>\n",
       "      <td>비타민</td>\n",
       "    </tr>\n",
       "    <tr>\n",
       "      <th>3</th>\n",
       "      <td>digestive</td>\n",
       "      <td>3200.0</td>\n",
       "      <td>서울</td>\n",
       "      <td>일반의약품</td>\n",
       "      <td>digestive</td>\n",
       "    </tr>\n",
       "    <tr>\n",
       "      <th>4</th>\n",
       "      <td>Omega3</td>\n",
       "      <td>3700.0</td>\n",
       "      <td>서울</td>\n",
       "      <td>일반의약품</td>\n",
       "      <td>omega3</td>\n",
       "    </tr>\n",
       "    <tr>\n",
       "      <th>5</th>\n",
       "      <td>오메가3</td>\n",
       "      <td>NaN</td>\n",
       "      <td>서울</td>\n",
       "      <td>일반의약품</td>\n",
       "      <td>오메가3</td>\n",
       "    </tr>\n",
       "    <tr>\n",
       "      <th>6</th>\n",
       "      <td>vitamin</td>\n",
       "      <td>2000.0</td>\n",
       "      <td>서울</td>\n",
       "      <td>일반의약품</td>\n",
       "      <td>vitamin</td>\n",
       "    </tr>\n",
       "    <tr>\n",
       "      <th>7</th>\n",
       "      <td>Vitamin</td>\n",
       "      <td>1000.0</td>\n",
       "      <td>서울</td>\n",
       "      <td>일반의약품</td>\n",
       "      <td>vitamin</td>\n",
       "    </tr>\n",
       "  </tbody>\n",
       "</table>\n",
       "</div>"
      ],
      "text/plain": [
       "         약품명      가격  지역     종류    약품명_소문자\n",
       "0        소화제  3500.0  서울  일반의약품        소화제\n",
       "1        감기약  3200.0  서울  일반의약품        감기약\n",
       "2        비타민  4000.0  서울  일반의약품        비타민\n",
       "3  digestive  3200.0  서울  일반의약품  digestive\n",
       "4     Omega3  3700.0  서울  일반의약품     omega3\n",
       "5       오메가3     NaN  서울  일반의약품       오메가3\n",
       "6    vitamin  2000.0  서울  일반의약품    vitamin\n",
       "7    Vitamin  1000.0  서울  일반의약품    vitamin"
      ]
     },
     "execution_count": 88,
     "metadata": {},
     "output_type": "execute_result"
    }
   ],
   "source": [
    "# 저장된 csv 파일을 읽어옵니다.\n",
    "# Unnamed: 0 -> 기존인덱스\n",
    "\n",
    "pd.read_csv(\"판다스 연습.csv\", index=False)"
   ]
  },
  {
   "cell_type": "code",
   "execution_count": null,
   "metadata": {},
   "outputs": [],
   "source": []
  }
 ],
 "metadata": {
  "kernelspec": {
   "display_name": "Python 3",
   "language": "python",
   "name": "python3"
  },
  "language_info": {
   "codemirror_mode": {
    "name": "ipython",
    "version": 3
   },
   "file_extension": ".py",
   "mimetype": "text/x-python",
   "name": "python",
   "nbconvert_exporter": "python",
   "pygments_lexer": "ipython3",
   "version": "3.8.8"
  },
  "toc": {
   "base_numbering": 1,
   "nav_menu": {},
   "number_sections": true,
   "sideBar": true,
   "skip_h1_title": false,
   "title_cell": "Table of Contents",
   "title_sidebar": "Contents",
   "toc_cell": false,
   "toc_position": {},
   "toc_section_display": true,
   "toc_window_display": false
  },
  "varInspector": {
   "cols": {
    "lenName": 16,
    "lenType": 16,
    "lenVar": 40
   },
   "kernels_config": {
    "python": {
     "delete_cmd_postfix": "",
     "delete_cmd_prefix": "del ",
     "library": "var_list.py",
     "varRefreshCmd": "print(var_dic_list())"
    },
    "r": {
     "delete_cmd_postfix": ") ",
     "delete_cmd_prefix": "rm(",
     "library": "var_list.r",
     "varRefreshCmd": "cat(var_dic_list()) "
    }
   },
   "types_to_exclude": [
    "module",
    "function",
    "builtin_function_or_method",
    "instance",
    "_Feature"
   ],
   "window_display": false
  }
 },
 "nbformat": 4,
 "nbformat_minor": 2
}
